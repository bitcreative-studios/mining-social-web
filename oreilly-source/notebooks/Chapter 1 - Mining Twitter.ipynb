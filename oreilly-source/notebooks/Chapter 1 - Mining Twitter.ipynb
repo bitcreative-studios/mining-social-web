{
 "cells": [
  {
   "cell_type": "markdown",
   "metadata": {},
   "source": [
    "# Mining Twitter\n",
    "\n",
    "Twitter implements OAuth 1.0A as its standard authentication mechanism, and in order to use it to make requests to Twitter's API, you'll need to go to https://developer.twitter.com/en/apps and create a sample application. It is possible that Twitter no longer supports sandboxed applications and you may need to submit a request for permission to develop an app on Twitter.\n",
    "\n",
    "There are four primary identifiers you'll need to note for an OAuth 1.0A workflow: consumer key, consumer secret, access token, and access token secret. Note that you will need an ordinary Twitter account in order to login, create an app, and get these credentials.\n",
    "\n",
    "<img src=\"resources/ch01-twitter/images/Twitter-AppCredentials.png\" width=\"600px\">"
   ]
  },
  {
   "cell_type": "markdown",
   "metadata": {},
   "source": [
    "If you are running this code on Binder or from the Docker container, you should just be able to execute the code in this notebook without any worries whatsoever about installing dependencies. If you are running the code from your own development envioronment, however, be advised that these examples in this chapter take advantage of a Python package called [twitter](https://github.com/sixohsix/twitter) to make API calls. You can install this package in a terminal with [pip](https://pypi.python.org/pypi/pip) with the command `pip install twitter`, preferably from within a [Python virtual environment](https://pypi.python.org/pypi/virtualenv). "
   ]
  },
  {
   "cell_type": "markdown",
   "metadata": {},
   "source": [
    "Once installed, you should be able to open up a Python interpreter (or better yet, your [IPython](http://ipython.org/) interpreter) and get rolling."
   ]
  },
  {
   "cell_type": "markdown",
   "metadata": {},
   "source": [
    "## Authorizing an application to access Twitter account data"
   ]
  },
  {
   "cell_type": "code",
   "execution_count": 3,
   "metadata": {},
   "outputs": [
    {
     "name": "stdout",
     "output_type": "stream",
     "text": [
      "<twitter.api.Twitter object at 0x7f11600e3d90>\n"
     ]
    }
   ],
   "source": [
    "from dotenv import load_dotenv\n",
    "import os\n",
    "import twitter\n",
    "\n",
    "# Load environment variables\n",
    "load_dotenv()\n",
    "\n",
    "# Go to https://developer.twitter.com/en/apps to create an app and get values\n",
    "# for these credentials, which you'll need to provide in place of these\n",
    "# empty string values that are defined as placeholders.\n",
    "# See https://developer.twitter.com/en/docs/basics/authentication/overview/oauth\n",
    "# for more information on Twitter's OAuth implementation.\n",
    "\n",
    "CONSUMER_KEY = os.getenv('TWITTER_CONSUMER_KEY')\n",
    "CONSUMER_SECRET = os.getenv('TWITTER_CONSUMER_SECRET')\n",
    "OAUTH_TOKEN = os.getenv('TWITTER_ACCESS_TOKEN')\n",
    "OAUTH_TOKEN_SECRET = os.getenv('TWITTER_ACCESS_TOKEN_SECRET')\n",
    "\n",
    "auth = twitter.oauth.OAuth(OAUTH_TOKEN, OAUTH_TOKEN_SECRET,\n",
    "                           CONSUMER_KEY, CONSUMER_SECRET)\n",
    "\n",
    "twitter_api = twitter.Twitter(auth=auth)\n",
    "\n",
    "# Nothing to see by displaying twitter_api except that it's now a\n",
    "# defined variable\n",
    "\n",
    "print(twitter_api)"
   ]
  },
  {
   "cell_type": "markdown",
   "metadata": {},
   "source": [
    "## Retrieving trends"
   ]
  },
  {
   "cell_type": "code",
   "execution_count": 5,
   "metadata": {},
   "outputs": [
    {
     "name": "stdout",
     "output_type": "stream",
     "text": [
      "[{'trends': [{'name': '#FreeCodeFridayContest', 'url': 'http://twitter.com/search?q=%23FreeCodeFridayContest', 'promoted_content': None, 'query': '%23FreeCodeFridayContest', 'tweet_volume': None}, {'name': '#wwlll', 'url': 'http://twitter.com/search?q=%23wwlll', 'promoted_content': None, 'query': '%23wwlll', 'tweet_volume': 140400}, {'name': '#TrumpsWar', 'url': 'http://twitter.com/search?q=%23TrumpsWar', 'promoted_content': None, 'query': '%23TrumpsWar', 'tweet_volume': 67317}, {'name': '#TerceiraGuerraMundial', 'url': 'http://twitter.com/search?q=%23TerceiraGuerraMundial', 'promoted_content': None, 'query': '%23TerceiraGuerraMundial', 'tweet_volume': 449353}, {'name': 'Austrália', 'url': 'http://twitter.com/search?q=Austr%C3%A1lia', 'promoted_content': None, 'query': 'Austr%C3%A1lia', 'tweet_volume': 1341497}, {'name': 'Drummond', 'url': 'http://twitter.com/search?q=Drummond', 'promoted_content': None, 'query': 'Drummond', 'tweet_volume': 14903}, {'name': '#الهلال_الفيصلي', 'url': 'http://twitter.com/search?q=%23%D8%A7%D9%84%D9%87%D9%84%D8%A7%D9%84_%D8%A7%D9%84%D9%81%D9%8A%D8%B5%D9%84%D9%8A', 'promoted_content': None, 'query': '%23%D8%A7%D9%84%D9%87%D9%84%D8%A7%D9%84_%D8%A7%D9%84%D9%81%D9%8A%D8%B5%D9%84%D9%8A', 'tweet_volume': 128264}, {'name': 'Saulo', 'url': 'http://twitter.com/search?q=Saulo', 'promoted_content': None, 'query': 'Saulo', 'tweet_volume': 392752}, {'name': 'Torra', 'url': 'http://twitter.com/search?q=Torra', 'promoted_content': None, 'query': 'Torra', 'tweet_volume': 175551}, {'name': 'Biz TeröristDeğiliz', 'url': 'http://twitter.com/search?q=%22Biz+Ter%C3%B6ristDe%C4%9Filiz%22', 'promoted_content': None, 'query': '%22Biz+Ter%C3%B6ristDe%C4%9Filiz%22', 'tweet_volume': 48710}, {'name': 'Tyler Perry', 'url': 'http://twitter.com/search?q=%22Tyler+Perry%22', 'promoted_content': None, 'query': '%22Tyler+Perry%22', 'tweet_volume': 19314}, {'name': 'Selman Öğüt', 'url': 'http://twitter.com/search?q=%22Selman+%C3%96%C4%9F%C3%BCt%22', 'promoted_content': None, 'query': '%22Selman+%C3%96%C4%9F%C3%BCt%22', 'tweet_volume': 10082}, {'name': 'Gustavo Henrique', 'url': 'http://twitter.com/search?q=%22Gustavo+Henrique%22', 'promoted_content': None, 'query': '%22Gustavo+Henrique%22', 'tweet_volume': 14738}, {'name': 'La JEC', 'url': 'http://twitter.com/search?q=%22La+JEC%22', 'promoted_content': None, 'query': '%22La+JEC%22', 'tweet_volume': 127310}, {'name': 'スーパームックモード', 'url': 'http://twitter.com/search?q=%E3%82%B9%E3%83%BC%E3%83%91%E3%83%BC%E3%83%A0%E3%83%83%E3%82%AF%E3%83%A2%E3%83%BC%E3%83%89', 'promoted_content': None, 'query': '%E3%82%B9%E3%83%BC%E3%83%91%E3%83%BC%E3%83%A0%E3%83%83%E3%82%AF%E3%83%A2%E3%83%BC%E3%83%89', 'tweet_volume': 42956}, {'name': 'Jess Phillips', 'url': 'http://twitter.com/search?q=%22Jess+Phillips%22', 'promoted_content': None, 'query': '%22Jess+Phillips%22', 'tweet_volume': 13031}, {'name': 'Cameron Diaz', 'url': 'http://twitter.com/search?q=%22Cameron+Diaz%22', 'promoted_content': None, 'query': '%22Cameron+Diaz%22', 'tweet_volume': None}, {'name': 'Generalitat', 'url': 'http://twitter.com/search?q=Generalitat', 'promoted_content': None, 'query': 'Generalitat', 'tweet_volume': 81255}, {'name': 'Chioma B', 'url': 'http://twitter.com/search?q=%22Chioma+B%22', 'promoted_content': None, 'query': '%22Chioma+B%22', 'tweet_volume': None}, {'name': 'Onyekuru', 'url': 'http://twitter.com/search?q=Onyekuru', 'promoted_content': None, 'query': 'Onyekuru', 'tweet_volume': 29424}, {'name': 'All-Pro', 'url': 'http://twitter.com/search?q=All-Pro', 'promoted_content': None, 'query': 'All-Pro', 'tweet_volume': 37359}, {'name': '#ليله_عباديات', 'url': 'http://twitter.com/search?q=%23%D9%84%D9%8A%D9%84%D9%87_%D8%B9%D8%A8%D8%A7%D8%AF%D9%8A%D8%A7%D8%AA', 'promoted_content': None, 'query': '%23%D9%84%D9%8A%D9%84%D9%87_%D8%B9%D8%A8%D8%A7%D8%AF%D9%8A%D8%A7%D8%AA', 'tweet_volume': 10989}, {'name': '#متحرش_المدينه', 'url': 'http://twitter.com/search?q=%23%D9%85%D8%AA%D8%AD%D8%B1%D8%B4_%D8%A7%D9%84%D9%85%D8%AF%D9%8A%D9%86%D9%87', 'promoted_content': None, 'query': '%23%D9%85%D8%AA%D8%AD%D8%B1%D8%B4_%D8%A7%D9%84%D9%85%D8%AF%D9%8A%D9%86%D9%87', 'tweet_volume': 28992}, {'name': '#EnineBoyuna', 'url': 'http://twitter.com/search?q=%23EnineBoyuna', 'promoted_content': None, 'query': '%23EnineBoyuna', 'tweet_volume': None}, {'name': '#AvenidaBrasil', 'url': 'http://twitter.com/search?q=%23AvenidaBrasil', 'promoted_content': None, 'query': '%23AvenidaBrasil', 'tweet_volume': 15103}, {'name': '#Jinek', 'url': 'http://twitter.com/search?q=%23Jinek', 'promoted_content': None, 'query': '%23Jinek', 'tweet_volume': None}, {'name': '#BrazilLovePalestine', 'url': 'http://twitter.com/search?q=%23BrazilLovePalestine', 'promoted_content': None, 'query': '%23BrazilLovePalestine', 'tweet_volume': 14960}, {'name': '#KohlsxUnderArmour', 'url': 'http://twitter.com/search?q=%23KohlsxUnderArmour', 'promoted_content': None, 'query': '%23KohlsxUnderArmour', 'tweet_volume': 28262}, {'name': '#AskerDemek', 'url': 'http://twitter.com/search?q=%23AskerDemek', 'promoted_content': None, 'query': '%23AskerDemek', 'tweet_volume': None}, {'name': '#28DaysUntilWalls', 'url': 'http://twitter.com/search?q=%2328DaysUntilWalls', 'promoted_content': None, 'query': '%2328DaysUntilWalls', 'tweet_volume': 39620}, {'name': '#HepimizinŞehidi', 'url': 'http://twitter.com/search?q=%23Hepimizin%C5%9Eehidi', 'promoted_content': None, 'query': '%23Hepimizin%C5%9Eehidi', 'tweet_volume': 13657}, {'name': '#CalaBocaBolsonaro', 'url': 'http://twitter.com/search?q=%23CalaBocaBolsonaro', 'promoted_content': None, 'query': '%23CalaBocaBolsonaro', 'tweet_volume': 54450}, {'name': '#TOTP', 'url': 'http://twitter.com/search?q=%23TOTP', 'promoted_content': None, 'query': '%23TOTP', 'tweet_volume': None}, {'name': '#Gogglebox', 'url': 'http://twitter.com/search?q=%23Gogglebox', 'promoted_content': None, 'query': '%23Gogglebox', 'tweet_volume': None}, {'name': '#SpainIsAFascistState', 'url': 'http://twitter.com/search?q=%23SpainIsAFascistState', 'promoted_content': None, 'query': '%23SpainIsAFascistState', 'tweet_volume': None}, {'name': '#LesTouristes', 'url': 'http://twitter.com/search?q=%23LesTouristes', 'promoted_content': None, 'query': '%23LesTouristes', 'tweet_volume': None}, {'name': '#ww111', 'url': 'http://twitter.com/search?q=%23ww111', 'promoted_content': None, 'query': '%23ww111', 'tweet_volume': 10584}, {'name': '#Sigamoslosbuenos2020', 'url': 'http://twitter.com/search?q=%23Sigamoslosbuenos2020', 'promoted_content': None, 'query': '%23Sigamoslosbuenos2020', 'tweet_volume': None}, {'name': '#BakeOffItalia', 'url': 'http://twitter.com/search?q=%23BakeOffItalia', 'promoted_content': None, 'query': '%23BakeOffItalia', 'tweet_volume': None}, {'name': '#CashAppFriday', 'url': 'http://twitter.com/search?q=%23CashAppFriday', 'promoted_content': None, 'query': '%23CashAppFriday', 'tweet_volume': None}, {'name': '#boicotgalicia', 'url': 'http://twitter.com/search?q=%23boicotgalicia', 'promoted_content': None, 'query': '%23boicotgalicia', 'tweet_volume': None}, {'name': '#ZorluÇetesiİstifa', 'url': 'http://twitter.com/search?q=%23Zorlu%C3%87etesi%C4%B0stifa', 'promoted_content': None, 'query': '%23Zorlu%C3%87etesi%C4%B0stifa', 'tweet_volume': 12888}, {'name': '#Ardaturanıçokistiyoruz', 'url': 'http://twitter.com/search?q=%23Ardaturan%C4%B1%C3%A7okistiyoruz', 'promoted_content': None, 'query': '%23Ardaturan%C4%B1%C3%A7okistiyoruz', 'tweet_volume': None}, {'name': '#ReyesNintenderos', 'url': 'http://twitter.com/search?q=%23ReyesNintenderos', 'promoted_content': None, 'query': '%23ReyesNintenderos', 'tweet_volume': None}, {'name': '#AlbertoConElPueblo', 'url': 'http://twitter.com/search?q=%23AlbertoConElPueblo', 'promoted_content': None, 'query': '%23AlbertoConElPueblo', 'tweet_volume': None}, {'name': '#JBYummy', 'url': 'http://twitter.com/search?q=%23JBYummy', 'promoted_content': None, 'query': '%23JBYummy', 'tweet_volume': 17254}, {'name': '#OiOiOi65', 'url': 'http://twitter.com/search?q=%23OiOiOi65', 'promoted_content': None, 'query': '%23OiOiOi65', 'tweet_volume': None}, {'name': '#Sharon', 'url': 'http://twitter.com/search?q=%23Sharon', 'promoted_content': None, 'query': '%23Sharon', 'tweet_volume': None}, {'name': '#OneWeekForRARE', 'url': 'http://twitter.com/search?q=%23OneWeekForRARE', 'promoted_content': None, 'query': '%23OneWeekForRARE', 'tweet_volume': 45132}, {'name': '#كم_مره_تضحك_باليوم', 'url': 'http://twitter.com/search?q=%23%D9%83%D9%85_%D9%85%D8%B1%D9%87_%D8%AA%D8%B6%D8%AD%D9%83_%D8%A8%D8%A7%D9%84%D9%8A%D9%88%D9%85', 'promoted_content': None, 'query': '%23%D9%83%D9%85_%D9%85%D8%B1%D9%87_%D8%AA%D8%B6%D8%AD%D9%83_%D8%A8%D8%A7%D9%84%D9%8A%D9%88%D9%85', 'tweet_volume': None}], 'as_of': '2020-01-03T22:17:07Z', 'created_at': '2020-01-03T22:13:17Z', 'locations': [{'name': 'Worldwide', 'woeid': 1}]}]\n",
      "\n",
      "[{'trends': [{'name': '#FreeCodeFridayContest', 'url': 'http://twitter.com/search?q=%23FreeCodeFridayContest', 'promoted_content': None, 'query': '%23FreeCodeFridayContest', 'tweet_volume': None}, {'name': '#TrumpsWar', 'url': 'http://twitter.com/search?q=%23TrumpsWar', 'promoted_content': None, 'query': '%23TrumpsWar', 'tweet_volume': 67317}, {'name': 'Drummond', 'url': 'http://twitter.com/search?q=Drummond', 'promoted_content': None, 'query': 'Drummond', 'tweet_volume': 14903}, {'name': '#wwlll', 'url': 'http://twitter.com/search?q=%23wwlll', 'promoted_content': None, 'query': '%23wwlll', 'tweet_volume': 140400}, {'name': '#sweepstakes', 'url': 'http://twitter.com/search?q=%23sweepstakes', 'promoted_content': None, 'query': '%23sweepstakes', 'tweet_volume': 19637}, {'name': 'Tyler Perry', 'url': 'http://twitter.com/search?q=%22Tyler+Perry%22', 'promoted_content': None, 'query': '%22Tyler+Perry%22', 'tweet_volume': 19314}, {'name': '#NoWarInIran', 'url': 'http://twitter.com/search?q=%23NoWarInIran', 'promoted_content': None, 'query': '%23NoWarInIran', 'tweet_volume': None}, {'name': 'All-Pro', 'url': 'http://twitter.com/search?q=All-Pro', 'promoted_content': None, 'query': 'All-Pro', 'tweet_volume': 37359}, {'name': 'Bill Polian', 'url': 'http://twitter.com/search?q=%22Bill+Polian%22', 'promoted_content': None, 'query': '%22Bill+Polian%22', 'tweet_volume': None}, {'name': 'Halo Infinite', 'url': 'http://twitter.com/search?q=%22Halo+Infinite%22', 'promoted_content': None, 'query': '%22Halo+Infinite%22', 'tweet_volume': None}, {'name': 'Cameron Diaz', 'url': 'http://twitter.com/search?q=%22Cameron+Diaz%22', 'promoted_content': None, 'query': '%22Cameron+Diaz%22', 'tweet_volume': None}, {'name': 'Deutsche Bank', 'url': 'http://twitter.com/search?q=%22Deutsche+Bank%22', 'promoted_content': None, 'query': '%22Deutsche+Bank%22', 'tweet_volume': 101402}, {'name': 'Richard Sherman', 'url': 'http://twitter.com/search?q=%22Richard+Sherman%22', 'promoted_content': None, 'query': '%22Richard+Sherman%22', 'tweet_volume': None}, {'name': 'Nikki Bella', 'url': 'http://twitter.com/search?q=%22Nikki+Bella%22', 'promoted_content': None, 'query': '%22Nikki+Bella%22', 'tweet_volume': None}, {'name': 'Jacob Wohl', 'url': 'http://twitter.com/search?q=%22Jacob+Wohl%22', 'promoted_content': None, 'query': '%22Jacob+Wohl%22', 'tweet_volume': 20655}, {'name': 'Grant Hill', 'url': 'http://twitter.com/search?q=%22Grant+Hill%22', 'promoted_content': None, 'query': '%22Grant+Hill%22', 'tweet_volume': None}, {'name': 'Fort Bragg', 'url': 'http://twitter.com/search?q=%22Fort+Bragg%22', 'promoted_content': None, 'query': '%22Fort+Bragg%22', 'tweet_volume': 21158}, {'name': 'United Methodist Church', 'url': 'http://twitter.com/search?q=%22United+Methodist+Church%22', 'promoted_content': None, 'query': '%22United+Methodist+Church%22', 'tweet_volume': None}, {'name': 'Meagan', 'url': 'http://twitter.com/search?q=Meagan', 'promoted_content': None, 'query': 'Meagan', 'tweet_volume': None}, {'name': 'Raddix', 'url': 'http://twitter.com/search?q=Raddix', 'promoted_content': None, 'query': 'Raddix', 'tweet_volume': None}, {'name': 'Parsons', 'url': 'http://twitter.com/search?q=Parsons', 'promoted_content': None, 'query': 'Parsons', 'tweet_volume': None}, {'name': 'Free DaBaby', 'url': 'http://twitter.com/search?q=%22Free+DaBaby%22', 'promoted_content': None, 'query': '%22Free+DaBaby%22', 'tweet_volume': None}, {'name': 'Lavrov', 'url': 'http://twitter.com/search?q=Lavrov', 'promoted_content': None, 'query': 'Lavrov', 'tweet_volume': None}, {'name': 'Reddish', 'url': 'http://twitter.com/search?q=Reddish', 'promoted_content': None, 'query': 'Reddish', 'tweet_volume': None}, {'name': 'Jim Montgomery', 'url': 'http://twitter.com/search?q=%22Jim+Montgomery%22', 'promoted_content': None, 'query': '%22Jim+Montgomery%22', 'tweet_volume': None}, {'name': 'Gang of Eight', 'url': 'http://twitter.com/search?q=%22Gang+of+Eight%22', 'promoted_content': None, 'query': '%22Gang+of+Eight%22', 'tweet_volume': 20673}, {'name': 'Nathan Rourke', 'url': 'http://twitter.com/search?q=%22Nathan+Rourke%22', 'promoted_content': None, 'query': '%22Nathan+Rourke%22', 'tweet_volume': None}, {'name': 'Eddie Jackson', 'url': 'http://twitter.com/search?q=%22Eddie+Jackson%22', 'promoted_content': None, 'query': '%22Eddie+Jackson%22', 'tweet_volume': None}, {'name': 'Vira', 'url': 'http://twitter.com/search?q=Vira', 'promoted_content': None, 'query': 'Vira', 'tweet_volume': 28910}, {'name': 'Logan Lerman', 'url': 'http://twitter.com/search?q=%22Logan+Lerman%22', 'promoted_content': None, 'query': '%22Logan+Lerman%22', 'tweet_volume': None}, {'name': 'Evangelicals for Trump', 'url': 'http://twitter.com/search?q=%22Evangelicals+for+Trump%22', 'promoted_content': None, 'query': '%22Evangelicals+for+Trump%22', 'tweet_volume': None}, {'name': 'Good Charlotte', 'url': 'http://twitter.com/search?q=%22Good+Charlotte%22', 'promoted_content': None, 'query': '%22Good+Charlotte%22', 'tweet_volume': None}, {'name': 'Happy Birthday Greta', 'url': 'http://twitter.com/search?q=%22Happy+Birthday+Greta%22', 'promoted_content': None, 'query': '%22Happy+Birthday+Greta%22', 'tweet_volume': None}, {'name': 'Cesar Ruiz', 'url': 'http://twitter.com/search?q=%22Cesar+Ruiz%22', 'promoted_content': None, 'query': '%22Cesar+Ruiz%22', 'tweet_volume': None}, {'name': 'Former Fox', 'url': 'http://twitter.com/search?q=%22Former+Fox%22', 'promoted_content': None, 'query': '%22Former+Fox%22', 'tweet_volume': None}, {'name': '#CashAppFriday', 'url': 'http://twitter.com/search?q=%23CashAppFriday', 'promoted_content': None, 'query': '%23CashAppFriday', 'tweet_volume': None}, {'name': '#TSBAllPro', 'url': 'http://twitter.com/search?q=%23TSBAllPro', 'promoted_content': None, 'query': '%23TSBAllPro', 'tweet_volume': None}, {'name': '#IfThingsGoMyWay', 'url': 'http://twitter.com/search?q=%23IfThingsGoMyWay', 'promoted_content': None, 'query': '%23IfThingsGoMyWay', 'tweet_volume': None}, {'name': '#IfOnlyId', 'url': 'http://twitter.com/search?q=%23IfOnlyId', 'promoted_content': None, 'query': '%23IfOnlyId', 'tweet_volume': None}, {'name': '#FridayVibes', 'url': 'http://twitter.com/search?q=%23FridayVibes', 'promoted_content': None, 'query': '%23FridayVibes', 'tweet_volume': None}, {'name': '#WagTheDogWar', 'url': 'http://twitter.com/search?q=%23WagTheDogWar', 'promoted_content': None, 'query': '%23WagTheDogWar', 'tweet_volume': None}, {'name': '#MuseumMusic', 'url': 'http://twitter.com/search?q=%23MuseumMusic', 'promoted_content': None, 'query': '%23MuseumMusic', 'tweet_volume': None}, {'name': '#cashappwildfriday', 'url': 'http://twitter.com/search?q=%23cashappwildfriday', 'promoted_content': None, 'query': '%23cashappwildfriday', 'tweet_volume': None}, {'name': '#FursuitFriday', 'url': 'http://twitter.com/search?q=%23FursuitFriday', 'promoted_content': None, 'query': '%23FursuitFriday', 'tweet_volume': None}, {'name': '#JBYummy', 'url': 'http://twitter.com/search?q=%23JBYummy', 'promoted_content': None, 'query': '%23JBYummy', 'tweet_volume': 17254}, {'name': '#SoleimaniKilled', 'url': 'http://twitter.com/search?q=%23SoleimaniKilled', 'promoted_content': None, 'query': '%23SoleimaniKilled', 'tweet_volume': None}, {'name': '#PotatoBowl', 'url': 'http://twitter.com/search?q=%23PotatoBowl', 'promoted_content': None, 'query': '%23PotatoBowl', 'tweet_volume': None}, {'name': '#Freeinno', 'url': 'http://twitter.com/search?q=%23Freeinno', 'promoted_content': None, 'query': '%23Freeinno', 'tweet_volume': None}, {'name': '#AllPro', 'url': 'http://twitter.com/search?q=%23AllPro', 'promoted_content': None, 'query': '%23AllPro', 'tweet_volume': None}, {'name': '#28DaysUntilWalls', 'url': 'http://twitter.com/search?q=%2328DaysUntilWalls', 'promoted_content': None, 'query': '%2328DaysUntilWalls', 'tweet_volume': 39620}], 'as_of': '2020-01-03T22:17:07Z', 'created_at': '2020-01-03T22:13:17Z', 'locations': [{'name': 'United States', 'woeid': 23424977}]}]\n"
     ]
    }
   ],
   "source": [
    "# The Yahoo! Where On Earth ID for the entire world is 1.\n",
    "# See https://dev.twitter.com/docs/api/1.1/get/trends/place and\n",
    "# http://developer.yahoo.com/geo/geoplanet/\n",
    "\n",
    "WORLD_WOE_ID = 1\n",
    "US_WOE_ID = 23424977\n",
    "\n",
    "# Prefix ID with the underscore for query string parameterization.\n",
    "# Without the underscore, the twitter package appends the ID value\n",
    "# to the URL itself as a special case keyword argument.\n",
    "\n",
    "world_trends = twitter_api.trends.place(_id=WORLD_WOE_ID)\n",
    "us_trends = twitter_api.trends.place(_id=US_WOE_ID)\n",
    "\n",
    "print(world_trends)\n",
    "print()\n",
    "print(us_trends)"
   ]
  },
  {
   "cell_type": "code",
   "execution_count": 6,
   "metadata": {},
   "outputs": [
    {
     "name": "stdout",
     "output_type": "stream",
     "text": [
      "#FreeCodeFridayContest\n",
      "#wwlll\n",
      "#TrumpsWar\n",
      "#TerceiraGuerraMundial\n",
      "Austrália\n",
      "Drummond\n",
      "#الهلال_الفيصلي\n",
      "Saulo\n",
      "Torra\n",
      "Biz TeröristDeğiliz\n",
      "Tyler Perry\n",
      "Selman Öğüt\n",
      "Gustavo Henrique\n",
      "La JEC\n",
      "スーパームックモード\n",
      "Jess Phillips\n",
      "Cameron Diaz\n",
      "Generalitat\n",
      "Chioma B\n",
      "Onyekuru\n",
      "All-Pro\n",
      "#ليله_عباديات\n",
      "#متحرش_المدينه\n",
      "#EnineBoyuna\n",
      "#AvenidaBrasil\n",
      "#Jinek\n",
      "#BrazilLovePalestine\n",
      "#KohlsxUnderArmour\n",
      "#AskerDemek\n",
      "#28DaysUntilWalls\n",
      "#HepimizinŞehidi\n",
      "#CalaBocaBolsonaro\n",
      "#TOTP\n",
      "#Gogglebox\n",
      "#SpainIsAFascistState\n",
      "#LesTouristes\n",
      "#ww111\n",
      "#Sigamoslosbuenos2020\n",
      "#BakeOffItalia\n",
      "#CashAppFriday\n",
      "#boicotgalicia\n",
      "#ZorluÇetesiİstifa\n",
      "#Ardaturanıçokistiyoruz\n",
      "#ReyesNintenderos\n",
      "#AlbertoConElPueblo\n",
      "#JBYummy\n",
      "#OiOiOi65\n",
      "#Sharon\n",
      "#OneWeekForRARE\n",
      "#كم_مره_تضحك_باليوم\n"
     ]
    }
   ],
   "source": [
    "for trend in world_trends[0]['trends']:\n",
    "    print(trend['name'])"
   ]
  },
  {
   "cell_type": "code",
   "execution_count": 7,
   "metadata": {},
   "outputs": [
    {
     "name": "stdout",
     "output_type": "stream",
     "text": [
      "#FreeCodeFridayContest\n",
      "#TrumpsWar\n",
      "Drummond\n",
      "#wwlll\n",
      "#sweepstakes\n",
      "Tyler Perry\n",
      "#NoWarInIran\n",
      "All-Pro\n",
      "Bill Polian\n",
      "Halo Infinite\n",
      "Cameron Diaz\n",
      "Deutsche Bank\n",
      "Richard Sherman\n",
      "Nikki Bella\n",
      "Jacob Wohl\n",
      "Grant Hill\n",
      "Fort Bragg\n",
      "United Methodist Church\n",
      "Meagan\n",
      "Raddix\n",
      "Parsons\n",
      "Free DaBaby\n",
      "Lavrov\n",
      "Reddish\n",
      "Jim Montgomery\n",
      "Gang of Eight\n",
      "Nathan Rourke\n",
      "Eddie Jackson\n",
      "Vira\n",
      "Logan Lerman\n",
      "Evangelicals for Trump\n",
      "Good Charlotte\n",
      "Happy Birthday Greta\n",
      "Cesar Ruiz\n",
      "Former Fox\n",
      "#CashAppFriday\n",
      "#TSBAllPro\n",
      "#IfThingsGoMyWay\n",
      "#IfOnlyId\n",
      "#FridayVibes\n",
      "#WagTheDogWar\n",
      "#MuseumMusic\n",
      "#cashappwildfriday\n",
      "#FursuitFriday\n",
      "#JBYummy\n",
      "#SoleimaniKilled\n",
      "#PotatoBowl\n",
      "#Freeinno\n",
      "#AllPro\n",
      "#28DaysUntilWalls\n"
     ]
    }
   ],
   "source": [
    "for trend in us_trends[0]['trends']:\n",
    "    print(trend['name'])"
   ]
  },
  {
   "cell_type": "code",
   "execution_count": 8,
   "metadata": {},
   "outputs": [
    {
     "name": "stdout",
     "output_type": "stream",
     "text": [
      "{'#28DaysUntilWalls', 'All-Pro', '#wwlll', '#CashAppFriday', 'Tyler Perry', 'Drummond', '#JBYummy', '#TrumpsWar', '#FreeCodeFridayContest', 'Cameron Diaz'}\n"
     ]
    }
   ],
   "source": [
    "world_trends_set = set([trend['name'] \n",
    "                        for trend in world_trends[0]['trends']])\n",
    "\n",
    "us_trends_set = set([trend['name'] \n",
    "                     for trend in us_trends[0]['trends']]) \n",
    "\n",
    "common_trends = world_trends_set.intersection(us_trends_set)\n",
    "\n",
    "print(common_trends)"
   ]
  },
  {
   "cell_type": "markdown",
   "metadata": {},
   "source": [
    "## Anatomy of a Tweet"
   ]
  },
  {
   "cell_type": "code",
   "execution_count": 9,
   "metadata": {},
   "outputs": [
    {
     "name": "stdout",
     "output_type": "stream",
     "text": [
      "Length of statuses 100\n",
      "Length of statuses 200\n",
      "Length of statuses 300\n",
      "Length of statuses 400\n",
      "Length of statuses 500\n",
      "{\n",
      " \"created_at\": \"Fri Jan 03 23:52:56 +0000 2020\",\n",
      " \"id\": 1213246898963931137,\n",
      " \"id_str\": \"1213246898963931137\",\n",
      " \"text\": \"RT @taradublinrocks: It\\u2019s the equivalent him personally shooting #Soleimani on 5th Avenue. He ordered a strike without Congressional approv\\u2026\",\n",
      " \"truncated\": false,\n",
      " \"entities\": {\n",
      "  \"hashtags\": [\n",
      "   {\n",
      "    \"text\": \"Soleimani\",\n",
      "    \"indices\": [\n",
      "     65,\n",
      "     75\n",
      "    ]\n",
      "   }\n",
      "  ],\n",
      "  \"symbols\": [],\n",
      "  \"user_mentions\": [\n",
      "   {\n",
      "    \"screen_name\": \"taradublinrocks\",\n",
      "    \"name\": \"\\u2721\\ufe0f(((Tara Dublin)))\\u2721\\ufe0f\",\n",
      "    \"id\": 51241418,\n",
      "    \"id_str\": \"51241418\",\n",
      "    \"indices\": [\n",
      "     3,\n",
      "     19\n",
      "    ]\n",
      "   }\n",
      "  ],\n",
      "  \"urls\": []\n",
      " },\n",
      " \"metadata\": {\n",
      "  \"iso_language_code\": \"en\",\n",
      "  \"result_type\": \"recent\"\n",
      " },\n",
      " \"source\": \"<a href=\\\"http://twitter.com/download/iphone\\\" rel=\\\"nofollow\\\">Twitter for iPhone</a>\",\n",
      " \"in_reply_to_status_id\": null,\n",
      " \"in_reply_to_status_id_str\": null,\n",
      " \"in_reply_to_user_id\": null,\n",
      " \"in_reply_to_user_id_str\": null,\n",
      " \"in_reply_to_screen_name\": null,\n",
      " \"user\": {\n",
      "  \"id\": 206508957,\n",
      "  \"id_str\": \"206508957\",\n",
      "  \"name\": \"Gr8fulChik\",\n",
      "  \"screen_name\": \"gr8fulchik\",\n",
      "  \"location\": \"Baltimore, Maryland Hon USA\",\n",
      "  \"description\": \"Mother\\u2022Wife\\u2022Empath\\u2022 GrassRootVolunteer\\u2022 EqualRightsAreHumanRights\\u2022 Organic\\u2022SaveTheBees\\u2022 NoGMO\\u2022Married19Yrs\\u2022Tattooed\\u2022 JohnMayerFan\\u2022\",\n",
      "  \"url\": \"https://t.co/tMKiTUXztL\",\n",
      "  \"entities\": {\n",
      "   \"url\": {\n",
      "    \"urls\": [\n",
      "     {\n",
      "      \"url\": \"https://t.co/tMKiTUXztL\",\n",
      "      \"expanded_url\": \"https://www.vote.org\",\n",
      "      \"display_url\": \"vote.org\",\n",
      "      \"indices\": [\n",
      "       0,\n",
      "       23\n",
      "      ]\n",
      "     }\n",
      "    ]\n",
      "   },\n",
      "   \"description\": {\n",
      "    \"urls\": []\n",
      "   }\n",
      "  },\n",
      "  \"protected\": false,\n",
      "  \"followers_count\": 20558,\n",
      "  \"friends_count\": 18693,\n",
      "  \"listed_count\": 3,\n",
      "  \"created_at\": \"Sat Oct 23 03:16:46 +0000 2010\",\n",
      "  \"favourites_count\": 64622,\n",
      "  \"utc_offset\": null,\n",
      "  \"time_zone\": null,\n",
      "  \"geo_enabled\": true,\n",
      "  \"verified\": false,\n",
      "  \"statuses_count\": 37954,\n",
      "  \"lang\": null,\n",
      "  \"contributors_enabled\": false,\n",
      "  \"is_translator\": false,\n",
      "  \"is_translation_enabled\": false,\n",
      "  \"profile_background_color\": \"33A9E8\",\n",
      "  \"profile_background_image_url\": \"http://abs.twimg.com/images/themes/theme8/bg.gif\",\n",
      "  \"profile_background_image_url_https\": \"https://abs.twimg.com/images/themes/theme8/bg.gif\",\n",
      "  \"profile_background_tile\": false,\n",
      "  \"profile_image_url\": \"http://pbs.twimg.com/profile_images/1197344226725572608/NoG1LjTi_normal.jpg\",\n",
      "  \"profile_image_url_https\": \"https://pbs.twimg.com/profile_images/1197344226725572608/NoG1LjTi_normal.jpg\",\n",
      "  \"profile_banner_url\": \"https://pbs.twimg.com/profile_banners/206508957/1571284609\",\n",
      "  \"profile_link_color\": \"1B95E0\",\n",
      "  \"profile_sidebar_border_color\": \"D9B17E\",\n",
      "  \"profile_sidebar_fill_color\": \"EADEAA\",\n",
      "  \"profile_text_color\": \"333333\",\n",
      "  \"profile_use_background_image\": true,\n",
      "  \"has_extended_profile\": true,\n",
      "  \"default_profile\": false,\n",
      "  \"default_profile_image\": false,\n",
      "  \"following\": false,\n",
      "  \"follow_request_sent\": false,\n",
      "  \"notifications\": false,\n",
      "  \"translator_type\": \"none\"\n",
      " },\n",
      " \"geo\": null,\n",
      " \"coordinates\": null,\n",
      " \"place\": null,\n",
      " \"contributors\": null,\n",
      " \"retweeted_status\": {\n",
      "  \"created_at\": \"Fri Jan 03 16:24:25 +0000 2020\",\n",
      "  \"id\": 1213134025532956672,\n",
      "  \"id_str\": \"1213134025532956672\",\n",
      "  \"text\": \"It\\u2019s the equivalent him personally shooting #Soleimani on 5th Avenue. He ordered a strike without Congressional app\\u2026 https://t.co/uB6bpEyjHW\",\n",
      "  \"truncated\": true,\n",
      "  \"entities\": {\n",
      "   \"hashtags\": [\n",
      "    {\n",
      "     \"text\": \"Soleimani\",\n",
      "     \"indices\": [\n",
      "      44,\n",
      "      54\n",
      "     ]\n",
      "    }\n",
      "   ],\n",
      "   \"symbols\": [],\n",
      "   \"user_mentions\": [],\n",
      "   \"urls\": [\n",
      "    {\n",
      "     \"url\": \"https://t.co/uB6bpEyjHW\",\n",
      "     \"expanded_url\": \"https://twitter.com/i/web/status/1213134025532956672\",\n",
      "     \"display_url\": \"twitter.com/i/web/status/1\\u2026\",\n",
      "     \"indices\": [\n",
      "      117,\n",
      "      140\n",
      "     ]\n",
      "    }\n",
      "   ]\n",
      "  },\n",
      "  \"metadata\": {\n",
      "   \"iso_language_code\": \"en\",\n",
      "   \"result_type\": \"recent\"\n",
      "  },\n",
      "  \"source\": \"<a href=\\\"http://twitter.com/download/iphone\\\" rel=\\\"nofollow\\\">Twitter for iPhone</a>\",\n",
      "  \"in_reply_to_status_id\": null,\n",
      "  \"in_reply_to_status_id_str\": null,\n",
      "  \"in_reply_to_user_id\": null,\n",
      "  \"in_reply_to_user_id_str\": null,\n",
      "  \"in_reply_to_screen_name\": null,\n",
      "  \"user\": {\n",
      "   \"id\": 51241418,\n",
      "   \"id_str\": \"51241418\",\n",
      "   \"name\": \"\\u2721\\ufe0f(((Tara Dublin)))\\u2721\\ufe0f\",\n",
      "   \"screen_name\": \"taradublinrocks\",\n",
      "   \"location\": \"Portland, Oregon\",\n",
      "   \"description\": \"Mostly Political. Writer. #Voiceover actor. NJ\\u27a1\\ufe0fPDX. #BlockedByTrump 4+ yrs. Voice of #ImpeachmentTaskForce. \\u201cA popular anti-Trump Twitter force\\u201d-LA Magazine\",\n",
      "   \"url\": \"https://t.co/BsruhQO8Mn\",\n",
      "   \"entities\": {\n",
      "    \"url\": {\n",
      "     \"urls\": [\n",
      "      {\n",
      "       \"url\": \"https://t.co/BsruhQO8Mn\",\n",
      "       \"expanded_url\": \"https://www.kingshotpress.com/shop/nasty-ed-tiffany-scandal\",\n",
      "       \"display_url\": \"kingshotpress.com/shop/nasty-ed-\\u2026\",\n",
      "       \"indices\": [\n",
      "        0,\n",
      "        23\n",
      "       ]\n",
      "      }\n",
      "     ]\n",
      "    },\n",
      "    \"description\": {\n",
      "     \"urls\": []\n",
      "    }\n",
      "   },\n",
      "   \"protected\": false,\n",
      "   \"followers_count\": 41409,\n",
      "   \"friends_count\": 12446,\n",
      "   \"listed_count\": 763,\n",
      "   \"created_at\": \"Fri Jun 26 21:48:23 +0000 2009\",\n",
      "   \"favourites_count\": 160825,\n",
      "   \"utc_offset\": null,\n",
      "   \"time_zone\": null,\n",
      "   \"geo_enabled\": true,\n",
      "   \"verified\": true,\n",
      "   \"statuses_count\": 259812,\n",
      "   \"lang\": null,\n",
      "   \"contributors_enabled\": false,\n",
      "   \"is_translator\": false,\n",
      "   \"is_translation_enabled\": false,\n",
      "   \"profile_background_color\": \"352726\",\n",
      "   \"profile_background_image_url\": \"http://abs.twimg.com/images/themes/theme5/bg.gif\",\n",
      "   \"profile_background_image_url_https\": \"https://abs.twimg.com/images/themes/theme5/bg.gif\",\n",
      "   \"profile_background_tile\": true,\n",
      "   \"profile_image_url\": \"http://pbs.twimg.com/profile_images/1196864461434261505/IDfRTxvS_normal.jpg\",\n",
      "   \"profile_image_url_https\": \"https://pbs.twimg.com/profile_images/1196864461434261505/IDfRTxvS_normal.jpg\",\n",
      "   \"profile_banner_url\": \"https://pbs.twimg.com/profile_banners/51241418/1570216529\",\n",
      "   \"profile_link_color\": \"981CEB\",\n",
      "   \"profile_sidebar_border_color\": \"FFFFFF\",\n",
      "   \"profile_sidebar_fill_color\": \"99CC33\",\n",
      "   \"profile_text_color\": \"3E4415\",\n",
      "   \"profile_use_background_image\": true,\n",
      "   \"has_extended_profile\": true,\n",
      "   \"default_profile\": false,\n",
      "   \"default_profile_image\": false,\n",
      "   \"following\": false,\n",
      "   \"follow_request_sent\": false,\n",
      "   \"notifications\": false,\n",
      "   \"translator_type\": \"none\"\n",
      "  },\n",
      "  \"geo\": null,\n",
      "  \"coordinates\": null,\n",
      "  \"place\": null,\n",
      "  \"contributors\": null,\n",
      "  \"is_quote_status\": true,\n",
      "  \"quoted_status_id\": 1213093597689585666,\n",
      "  \"quoted_status_id_str\": \"1213093597689585666\",\n",
      "  \"quoted_status\": {\n",
      "   \"created_at\": \"Fri Jan 03 13:43:46 +0000 2020\",\n",
      "   \"id\": 1213093597689585666,\n",
      "   \"id_str\": \"1213093597689585666\",\n",
      "   \"text\": \"Trump started a war abroad to deflect from how weak and scared he is here at home.\",\n",
      "   \"truncated\": false,\n",
      "   \"entities\": {\n",
      "    \"hashtags\": [],\n",
      "    \"symbols\": [],\n",
      "    \"user_mentions\": [],\n",
      "    \"urls\": []\n",
      "   },\n",
      "   \"metadata\": {\n",
      "    \"iso_language_code\": \"en\",\n",
      "    \"result_type\": \"recent\"\n",
      "   },\n",
      "   \"source\": \"<a href=\\\"http://twitter.com/download/iphone\\\" rel=\\\"nofollow\\\">Twitter for iPhone</a>\",\n",
      "   \"in_reply_to_status_id\": null,\n",
      "   \"in_reply_to_status_id_str\": null,\n",
      "   \"in_reply_to_user_id\": null,\n",
      "   \"in_reply_to_user_id_str\": null,\n",
      "   \"in_reply_to_screen_name\": null,\n",
      "   \"user\": {\n",
      "    \"id\": 27493883,\n",
      "    \"id_str\": \"27493883\",\n",
      "    \"name\": \"Jon Cooper \\ud83c\\uddfa\\ud83c\\uddf8\",\n",
      "    \"screen_name\": \"joncoopertweets\",\n",
      "    \"location\": \"New York\",\n",
      "    \"description\": \"Chairman of @TheDemCoalition; formerly LI Campaign Chair for @BarackObama. Any endorsements here reflect my personal opinions. Views=mine #ImpeachmentTaskForce\",\n",
      "    \"url\": \"https://t.co/mzKvoqQjrq\",\n",
      "    \"entities\": {\n",
      "     \"url\": {\n",
      "      \"urls\": [\n",
      "       {\n",
      "        \"url\": \"https://t.co/mzKvoqQjrq\",\n",
      "        \"expanded_url\": \"http://www.DemocraticCoalition.org\",\n",
      "        \"display_url\": \"DemocraticCoalition.org\",\n",
      "        \"indices\": [\n",
      "         0,\n",
      "         23\n",
      "        ]\n",
      "       }\n",
      "      ]\n",
      "     },\n",
      "     \"description\": {\n",
      "      \"urls\": []\n",
      "     }\n",
      "    },\n",
      "    \"protected\": false,\n",
      "    \"followers_count\": 373071,\n",
      "    \"friends_count\": 37449,\n",
      "    \"listed_count\": 2204,\n",
      "    \"created_at\": \"Sun Mar 29 20:12:52 +0000 2009\",\n",
      "    \"favourites_count\": 122666,\n",
      "    \"utc_offset\": null,\n",
      "    \"time_zone\": null,\n",
      "    \"geo_enabled\": false,\n",
      "    \"verified\": true,\n",
      "    \"statuses_count\": 147100,\n",
      "    \"lang\": null,\n",
      "    \"contributors_enabled\": false,\n",
      "    \"is_translator\": false,\n",
      "    \"is_translation_enabled\": false,\n",
      "    \"profile_background_color\": \"C0DEED\",\n",
      "    \"profile_background_image_url\": \"http://abs.twimg.com/images/themes/theme1/bg.png\",\n",
      "    \"profile_background_image_url_https\": \"https://abs.twimg.com/images/themes/theme1/bg.png\",\n",
      "    \"profile_background_tile\": false,\n",
      "    \"profile_image_url\": \"http://pbs.twimg.com/profile_images/1203164939147513856/lFG-UGqc_normal.jpg\",\n",
      "    \"profile_image_url_https\": \"https://pbs.twimg.com/profile_images/1203164939147513856/lFG-UGqc_normal.jpg\",\n",
      "    \"profile_banner_url\": \"https://pbs.twimg.com/profile_banners/27493883/1570890036\",\n",
      "    \"profile_link_color\": \"1DA1F2\",\n",
      "    \"profile_sidebar_border_color\": \"C0DEED\",\n",
      "    \"profile_sidebar_fill_color\": \"DDEEF6\",\n",
      "    \"profile_text_color\": \"333333\",\n",
      "    \"profile_use_background_image\": true,\n",
      "    \"has_extended_profile\": true,\n",
      "    \"default_profile\": true,\n",
      "    \"default_profile_image\": false,\n",
      "    \"following\": false,\n",
      "    \"follow_request_sent\": false,\n",
      "    \"notifications\": false,\n",
      "    \"translator_type\": \"none\"\n",
      "   },\n",
      "   \"geo\": null,\n",
      "   \"coordinates\": null,\n",
      "   \"place\": null,\n",
      "   \"contributors\": null,\n",
      "   \"is_quote_status\": false,\n",
      "   \"retweet_count\": 2820,\n",
      "   \"favorite_count\": 10582,\n",
      "   \"favorited\": false,\n",
      "   \"retweeted\": false,\n",
      "   \"lang\": \"en\"\n",
      "  },\n",
      "  \"retweet_count\": 618,\n",
      "  \"favorite_count\": 1605,\n",
      "  \"favorited\": false,\n",
      "  \"retweeted\": false,\n",
      "  \"possibly_sensitive\": false,\n",
      "  \"lang\": \"en\"\n",
      " },\n",
      " \"is_quote_status\": true,\n",
      " \"quoted_status_id\": 1213093597689585666,\n",
      " \"quoted_status_id_str\": \"1213093597689585666\",\n",
      " \"retweet_count\": 618,\n",
      " \"favorite_count\": 0,\n",
      " \"favorited\": false,\n",
      " \"retweeted\": false,\n",
      " \"lang\": \"en\"\n",
      "}\n"
     ]
    }
   ],
   "source": [
    "import json\n",
    "\n",
    "# Set this variable to a trending topic, \n",
    "# or anything else for that matter. The example query below\n",
    "# was a trending topic when this content was being developed\n",
    "# and is used throughout the remainder of this chapter.\n",
    "\n",
    "q = '#TrumpsWar' \n",
    "\n",
    "count = 100\n",
    "\n",
    "# Import unquote to prevent url encoding errors in next_results\n",
    "from urllib.parse import unquote\n",
    "\n",
    "# See https://dev.twitter.com/rest/reference/get/search/tweets\n",
    "\n",
    "search_results = twitter_api.search.tweets(q=q, count=count)\n",
    "\n",
    "statuses = search_results['statuses']\n",
    "\n",
    "\n",
    "# Iterate through 5 more batches of results by following the cursor\n",
    "for _ in range(5):\n",
    "    print('Length of statuses', len(statuses))\n",
    "    try:\n",
    "        next_results = search_results['search_metadata']['next_results']\n",
    "    except KeyError as e: # No more results when next_results doesn't exist\n",
    "        break\n",
    "        \n",
    "    # Create a dictionary from next_results, which has the following form:\n",
    "    # ?max_id=847960489447628799&q=%23RIPSelena&count=100&include_entities=1\n",
    "    kwargs = dict([ kv.split('=') for kv in unquote(next_results[1:]).split(\"&\") ])\n",
    "    \n",
    "    search_results = twitter_api.search.tweets(**kwargs)\n",
    "    statuses += search_results['statuses']\n",
    "\n",
    "# Show one sample search result by slicing the list...\n",
    "print(json.dumps(statuses[0], indent=1))"
   ]
  },
  {
   "cell_type": "code",
   "execution_count": null,
   "metadata": {},
   "outputs": [],
   "source": [
    "for i in range(10):\n",
    "    print()\n",
    "    print(statuses[i]['text'])\n",
    "    print('Favorites: ', statuses[i]['favorite_count'])\n",
    "    print('Retweets: ', statuses[i]['retweet_count'])"
   ]
  },
  {
   "cell_type": "markdown",
   "metadata": {},
   "source": [
    "## Extracting text, screen names, and hashtags from tweets"
   ]
  },
  {
   "cell_type": "code",
   "execution_count": null,
   "metadata": {},
   "outputs": [],
   "source": [
    "status_texts = [ status['text'] \n",
    "                 for status in statuses ]\n",
    "\n",
    "screen_names = [ user_mention['screen_name'] \n",
    "                 for status in statuses\n",
    "                     for user_mention in status['entities']['user_mentions'] ]\n",
    "\n",
    "hashtags = [ hashtag['text'] \n",
    "             for status in statuses\n",
    "                 for hashtag in status['entities']['hashtags'] ]\n",
    "\n",
    "# Compute a collection of all words from all tweets\n",
    "words = [ w \n",
    "          for t in status_texts \n",
    "              for w in t.split() ]\n",
    "\n",
    "# Explore the first 5 items for each...\n",
    "\n",
    "print(json.dumps(status_texts[0:5], indent=1))\n",
    "print(json.dumps(screen_names[0:5], indent=1) )\n",
    "print(json.dumps(hashtags[0:5], indent=1))\n",
    "print(json.dumps(words[0:5], indent=1))"
   ]
  },
  {
   "cell_type": "markdown",
   "metadata": {},
   "source": [
    "## Creating a basic frequency distribution from the words in tweets"
   ]
  },
  {
   "cell_type": "code",
   "execution_count": null,
   "metadata": {},
   "outputs": [],
   "source": [
    "from collections import Counter\n",
    "\n",
    "for item in [words, screen_names, hashtags]:\n",
    "    c = Counter(item)\n",
    "    print(c.most_common()[:10]) # top 10\n",
    "    print()"
   ]
  },
  {
   "cell_type": "markdown",
   "metadata": {},
   "source": [
    "## Using prettytable to display tuples in a nice tabular format"
   ]
  },
  {
   "cell_type": "code",
   "execution_count": null,
   "metadata": {},
   "outputs": [],
   "source": [
    "from prettytable import PrettyTable\n",
    "\n",
    "for label, data in (('Word', words), \n",
    "                    ('Screen Name', screen_names), \n",
    "                    ('Hashtag', hashtags)):\n",
    "    pt = PrettyTable(field_names=[label, 'Count']) \n",
    "    c = Counter(data)\n",
    "    [ pt.add_row(kv) for kv in c.most_common()[:10] ]\n",
    "    pt.align[label], pt.align['Count'] = 'l', 'r' # Set column alignment\n",
    "    print(pt)"
   ]
  },
  {
   "cell_type": "markdown",
   "metadata": {},
   "source": [
    "## Calculating lexical diversity for tweets"
   ]
  },
  {
   "cell_type": "code",
   "execution_count": null,
   "metadata": {},
   "outputs": [],
   "source": [
    "# A function for computing lexical diversity\n",
    "def lexical_diversity(tokens):\n",
    "    return len(set(tokens))/len(tokens) \n",
    "\n",
    "# A function for computing the average number of words per tweet\n",
    "def average_words(statuses):\n",
    "    total_words = sum([ len(s.split()) for s in statuses ]) \n",
    "    return total_words/len(statuses)\n",
    "\n",
    "print(lexical_diversity(words))\n",
    "print(lexical_diversity(screen_names))\n",
    "print(lexical_diversity(hashtags))\n",
    "print(average_words(status_texts))"
   ]
  },
  {
   "cell_type": "markdown",
   "metadata": {},
   "source": [
    "## Finding the most popular retweets"
   ]
  },
  {
   "cell_type": "code",
   "execution_count": null,
   "metadata": {},
   "outputs": [],
   "source": [
    "retweets = [\n",
    "            # Store out a tuple of these three values ...\n",
    "            (status['retweet_count'], \n",
    "             status['retweeted_status']['user']['screen_name'],\n",
    "             status['retweeted_status']['id'],\n",
    "             status['text']) \n",
    "            \n",
    "            # ... for each status ...\n",
    "            for status in statuses \n",
    "            \n",
    "            # ... so long as the status meets this condition.\n",
    "                if 'retweeted_status' in status.keys()\n",
    "           ]\n",
    "\n",
    "# Slice off the first 5 from the sorted results and display each item in the tuple\n",
    "\n",
    "pt = PrettyTable(field_names=['Count', 'Screen Name', 'Tweet ID', 'Text'])\n",
    "[ pt.add_row(row) for row in sorted(retweets, reverse=True)[:5] ]\n",
    "pt.max_width['Text'] = 50\n",
    "pt.align= 'l'\n",
    "print(pt)"
   ]
  },
  {
   "cell_type": "markdown",
   "metadata": {},
   "source": [
    "## Looking up users who have retweeted a status"
   ]
  },
  {
   "cell_type": "code",
   "execution_count": null,
   "metadata": {},
   "outputs": [],
   "source": [
    "# Get the original tweet id for a tweet from its retweeted_status node \n",
    "# and insert it here\n",
    "\n",
    "_retweets = twitter_api.statuses.retweets(id=862359093398261760)\n",
    "print([r['user']['screen_name'] for r in _retweets])"
   ]
  },
  {
   "cell_type": "markdown",
   "metadata": {},
   "source": [
    "## Plotting frequencies of words"
   ]
  },
  {
   "cell_type": "code",
   "execution_count": null,
   "metadata": {},
   "outputs": [],
   "source": [
    "import matplotlib.pyplot as plt\n",
    "%matplotlib inline\n",
    "word_counts = sorted(Counter(words).values(), reverse=True)\n",
    "\n",
    "plt.loglog(word_counts)\n",
    "plt.ylabel(\"Freq\")\n",
    "plt.xlabel(\"Word Rank\")"
   ]
  },
  {
   "cell_type": "markdown",
   "metadata": {},
   "source": [
    "## Generating histograms of words, screen names, and hashtags"
   ]
  },
  {
   "cell_type": "code",
   "execution_count": null,
   "metadata": {},
   "outputs": [],
   "source": [
    "for label, data in (('Words', words), \n",
    "                    ('Screen Names', screen_names), \n",
    "                    ('Hashtags', hashtags)):\n",
    "\n",
    "    # Build a frequency map for each set of data\n",
    "    # and plot the values\n",
    "    c = Counter(data)\n",
    "    plt.hist(list(c.values()))\n",
    "    \n",
    "    # Add a title and y-label ...\n",
    "    plt.title(label)\n",
    "    plt.ylabel(\"Number of items in bin\")\n",
    "    plt.xlabel(\"Bins (number of times an item appeared)\")\n",
    "    \n",
    "    # ... and display as a new figure\n",
    "    plt.figure()"
   ]
  },
  {
   "cell_type": "markdown",
   "metadata": {},
   "source": [
    "## Generating a histogram of retweet counts"
   ]
  },
  {
   "cell_type": "code",
   "execution_count": null,
   "metadata": {},
   "outputs": [],
   "source": [
    "# Using underscores while unpacking values in\n",
    "# a tuple is idiomatic for discarding them\n",
    "\n",
    "counts = [count for count, _, _, _ in retweets]\n",
    "\n",
    "plt.hist(counts)\n",
    "plt.title('Retweets')\n",
    "plt.xlabel('Bins (number of times retweeted)')\n",
    "plt.ylabel('Number of tweets in bin')"
   ]
  },
  {
   "cell_type": "markdown",
   "metadata": {
    "collapsed": true
   },
   "source": [
    "## Sentiment Analysis"
   ]
  },
  {
   "cell_type": "code",
   "execution_count": null,
   "metadata": {},
   "outputs": [],
   "source": [
    "# pip install nltk\n",
    "import nltk\n",
    "nltk.download('vader_lexicon')\n",
    "\n",
    "import numpy as np\n",
    "from nltk.sentiment.vader import SentimentIntensityAnalyzer"
   ]
  },
  {
   "cell_type": "code",
   "execution_count": null,
   "metadata": {},
   "outputs": [],
   "source": [
    "twitter_stream = twitter.TwitterStream(auth=auth)\n",
    "iterator = twitter_stream.statuses.sample()"
   ]
  },
  {
   "cell_type": "code",
   "execution_count": null,
   "metadata": {},
   "outputs": [],
   "source": [
    "tweets = []\n",
    "for tweet in iterator:\n",
    "    try:\n",
    "        if tweet['lang'] == 'en':\n",
    "            tweets.append(tweet)\n",
    "    except:\n",
    "        pass\n",
    "    if len(tweets) == 100:\n",
    "        break"
   ]
  },
  {
   "cell_type": "code",
   "execution_count": null,
   "metadata": {},
   "outputs": [],
   "source": [
    "analyzer = SentimentIntensityAnalyzer()"
   ]
  },
  {
   "cell_type": "code",
   "execution_count": null,
   "metadata": {},
   "outputs": [],
   "source": [
    "analyzer.polarity_scores('Hello')"
   ]
  },
  {
   "cell_type": "code",
   "execution_count": null,
   "metadata": {},
   "outputs": [],
   "source": [
    "analyzer.polarity_scores('I really enjoy this video series.')"
   ]
  },
  {
   "cell_type": "code",
   "execution_count": null,
   "metadata": {},
   "outputs": [],
   "source": [
    "analyzer.polarity_scores('I REALLY enjoy this video series.')"
   ]
  },
  {
   "cell_type": "code",
   "execution_count": null,
   "metadata": {},
   "outputs": [],
   "source": [
    "analyzer.polarity_scores('I REALLY enjoy this video series!!!')"
   ]
  },
  {
   "cell_type": "code",
   "execution_count": null,
   "metadata": {},
   "outputs": [],
   "source": [
    "analyzer.polarity_scores('I REALLY did not enjoy this video series!!!')"
   ]
  },
  {
   "cell_type": "code",
   "execution_count": null,
   "metadata": {},
   "outputs": [],
   "source": [
    "scores = np.zeros(len(tweets))\n",
    "\n",
    "for i, t in enumerate(tweets):\n",
    "    # Extract the text portion of the tweet\n",
    "    text = t['text']\n",
    "    \n",
    "    # Measure the polarity of the tweet\n",
    "    polarity = analyzer.polarity_scores(text)\n",
    "    \n",
    "    # Store the normalized, weighted composite score\n",
    "    scores[i] = polarity['compound']"
   ]
  },
  {
   "cell_type": "code",
   "execution_count": null,
   "metadata": {},
   "outputs": [],
   "source": [
    "most_positive = np.argmax(scores)\n",
    "most_negative = np.argmin(scores)"
   ]
  },
  {
   "cell_type": "code",
   "execution_count": null,
   "metadata": {},
   "outputs": [],
   "source": [
    "print('{0:6.3f} : \"{1}\"'.format(scores[most_positive], tweets[most_positive]['text']))"
   ]
  },
  {
   "cell_type": "code",
   "execution_count": null,
   "metadata": {},
   "outputs": [],
   "source": [
    "print('{0:6.3f} : \"{1}\"'.format(scores[most_negative], tweets[most_negative]['text']))"
   ]
  },
  {
   "cell_type": "code",
   "execution_count": null,
   "metadata": {},
   "outputs": [],
   "source": []
  }
 ],
 "metadata": {
  "kernelspec": {
   "display_name": "Python 3",
   "language": "python",
   "name": "python3"
  },
  "language_info": {
   "codemirror_mode": {
    "name": "ipython",
    "version": 3
   },
   "file_extension": ".py",
   "mimetype": "text/x-python",
   "name": "python",
   "nbconvert_exporter": "python",
   "pygments_lexer": "ipython3",
   "version": "3.7.5"
  }
 },
 "nbformat": 4,
 "nbformat_minor": 1
}
